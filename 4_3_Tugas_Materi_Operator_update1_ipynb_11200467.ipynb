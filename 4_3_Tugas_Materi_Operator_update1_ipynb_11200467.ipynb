{
  "nbformat": 4,
  "nbformat_minor": 0,
  "metadata": {
    "colab": {
      "name": "4_3_Tugas_Materi_Operator_update1.ipynb_11200467",
      "provenance": [],
      "collapsed_sections": []
    },
    "kernelspec": {
      "display_name": "Python 3",
      "name": "python3"
    }
  },
  "cells": [
    {
      "cell_type": "code",
      "metadata": {
        "id": "wOlm8I2lPwa7"
      },
      "source": [
        ""
      ],
      "execution_count": null,
      "outputs": []
    },
    {
      "cell_type": "markdown",
      "metadata": {
        "id": "xQeqMxskP66X"
      },
      "source": [
        "##Tugas Praktek\n",
        "``` javascript\n",
        "if ... :\n",
        "    print(\"angka termasuk bilangan genap\")\n",
        "else:\n",
        "    print(\"angka termasuk bilangan ganjil\")\n",
        "``` \n",
        "Buatlah sebuah program yang bisa menentukan suatu nilai pada variable itu genap atau ganjil! Lakukan percobaan dengan langkah berikut:\n",
        "\n",
        "Buat variabel dengan nama “angka” isi dengan nilai 10\n",
        "Ganti bagian … dengan perhitungan untuk menentukan angka modulus 2 bernilai 0.\n",
        "\n",
        "1.   Buat variabel dengan nama **“angka”** isi dengan nilai 10\n",
        "2.   Ganti bagian … dengan perhitungan untuk menentukan angka modulus 2 bernilai 0.\n",
        "\n",
        "\n",
        "Cek apakah benar dia bernilai genap maka keluarkan **\"angka termasuk bilangan genap\"**, jika sudah ganti nilai variable angka dengan nilai 5 cek lagi apakah dia bernilai ganjil dan keluarkan **\"angka termasuk bilangan ganjil\"**.\n",
        "\n",
        "Note: Anda bisa menggunakan materi-materi sebelumnya dengan menggabungkannya di tugas praktek ini untuk membantu anda dalam mengerjakan.\n",
        "\n",
        "\n",
        "Ketikan pada code cell di bawah ini pada editor:"
      ]
    },
    {
      "cell_type": "code",
      "metadata": {
        "id": "eAf4FfQ-Qh57"
      },
      "source": [
        "##Jawaban Tugas Praktek 3.3\n",
        "a= input(\"Masukan bilangan\")\n",
        "a= int(a)\n",
        "print(a)\n",
        "if(a%2)== 0 :\n",
        "  print(\"Angka Termasuk Bilangan Genap\")\n",
        "else:\n",
        "  print(\"Angka Termasuk Bilangan Ganjil\")"
      ],
      "execution_count": null,
      "outputs": []
    }
  ]
}