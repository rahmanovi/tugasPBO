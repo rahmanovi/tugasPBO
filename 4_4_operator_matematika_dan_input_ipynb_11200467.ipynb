{
  "nbformat": 4,
  "nbformat_minor": 0,
  "metadata": {
    "colab": {
      "name": "4_4_operator_matematika_dan_input.ipynb_11200467",
      "provenance": [],
      "collapsed_sections": []
    },
    "kernelspec": {
      "name": "python3",
      "display_name": "Python 3"
    }
  },
  "cells": [
    {
      "cell_type": "code",
      "metadata": {
        "id": "f7WajviOKztl"
      },
      "source": [
        ""
      ],
      "execution_count": null,
      "outputs": []
    },
    {
      "cell_type": "markdown",
      "metadata": {
        "id": "Zf9uJW37LCfb"
      },
      "source": [
        "**Praktek Operasi Input Dan Operator Matematika**\n",
        "\n",
        "Bukalah kembali praktek operator matematika.\n",
        "\n",
        "Ubahlah agar variable **a** dan **b** menggunakan input dari keyboard\n",
        "\n",
        "\n",
        "Implementasikan code di bawah ini pada kode cell editor:\n",
        "``` javascript\n",
        "selisih = a-b\n",
        "jumlah = a+b\n",
        "kali = a*b\n",
        "bagi = a/b\n",
        "print(\"Hasil penjumlahan dan b adalah\", jumlah)\n",
        "print(\"Selisih a dan b adalah :\",selisih)\n",
        "print(\"Hasil perkalian a dan b adalah :\",kali)\n",
        "print(\"Hasil  pembagian a dan b adalah:\",bagi)\n",
        "\n",
        "``` \n",
        " \n",
        "\n",
        "Ketikan pada code cell di bawah ini pada editor:"
      ]
    },
    {
      "cell_type": "code",
      "metadata": {
        "id": "hYGfkiKOMo_x",
        "colab": {
          "base_uri": "https://localhost:8080/"
        },
        "outputId": "c8d77adc-8b7b-4dbc-f978-509e3a0e60a5"
      },
      "source": [
        "##Jawaban Tugas Praktek 3.4\n",
        "a= int(input(\"Masukan Nilai a= \"))\n",
        "b= int(input(\"Masukan Nilai b= \"))\n",
        "#penjumlahan\n",
        "jumlah = a+b\n",
        "print(a, \"+\", b, \"=\", jumlah)\n",
        "#selisih\n",
        "selisih = a-b\n",
        "print(a, \"-\", b, \"=\", selisih)\n",
        "#perkalian\n",
        "kali = a*b\n",
        "print(a, \"*\", b, \"=\", kali)\n",
        "#pembagian\n",
        "bagi = a/b\n",
        "print(a, \"/\", b, \"=\", bagi)"
      ],
      "execution_count": 1,
      "outputs": [
        {
          "output_type": "stream",
          "name": "stdout",
          "text": [
            "Masukan Nilai a= 23\n",
            "Masukan Nilai b= 12\n",
            "23 + 12 = 35\n",
            "23 - 12 = 11\n",
            "23 * 12 = 276\n",
            "23 / 12 = 1.9166666666666667\n"
          ]
        }
      ]
    }
  ]
}