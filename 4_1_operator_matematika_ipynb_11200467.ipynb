{
  "nbformat": 4,
  "nbformat_minor": 0,
  "metadata": {
    "colab": {
      "name": "4_1_operator_matematika.ipynb_11200467",
      "provenance": [],
      "collapsed_sections": []
    },
    "kernelspec": {
      "display_name": "Python 3",
      "name": "python3"
    }
  },
  "cells": [
    {
      "cell_type": "code",
      "metadata": {
        "id": "f7WajviOKztl"
      },
      "source": [
        ""
      ],
      "execution_count": null,
      "outputs": []
    },
    {
      "cell_type": "markdown",
      "metadata": {
        "id": "Zf9uJW37LCfb"
      },
      "source": [
        "**Praktek Operasi Matematika**\n",
        "\n",
        "Pada praktek ini kita akan mencoba semua operator matematika.\n",
        "\n",
        "Praktek pada sesi kali ini akan menekankan bagaimana menggunakan operator langsung diimplementasikan dengan variable.\n",
        "\n",
        "Implementasikan code di bawah ini pada kode cell editor:\n",
        "``` javascript\n",
        "a=10\n",
        "b=5\n",
        "selisih = a-b\n",
        "jumlah = a+b\n",
        "kali = a*b\n",
        "bagi = a/b\n",
        "print(\"Hasil penjumlahan dan b adalah\", jumlah)\n",
        "print(\"Selisih a dan b adalah :\",selisih)\n",
        "print(\"Hasil perkalian a dan b adalah :\",kali)\n",
        "print(\"Hasil  pembagian a dan b adalah:\",bagi)\n",
        "\n",
        "``` \n",
        " \n",
        "\n",
        "Ketikan code cell di bawah ini pada editor:"
      ]
    },
    {
      "cell_type": "code",
      "metadata": {
        "colab": {
          "base_uri": "https://localhost:8080/"
        },
        "id": "hYGfkiKOMo_x",
        "outputId": "705ff549-18b0-4c70-dc71-18556f64be9a"
      },
      "source": [
        "##Jawaban Tugas Praktek 3.1\n",
        "a=10\n",
        "b=5\n",
        "#penjumlahan\n",
        "jumlah = a+b\n",
        "print(a, \"+\", b, \"=\", jumlah)\n",
        "#selisih\n",
        "selisih = a-b\n",
        "print(a, \"-\", b, \"=\", selisih)\n",
        "#perkalian\n",
        "kali = a*b\n",
        "print(a, \"*\", b, \"=\", kali)\n",
        "#pembagian\n",
        "bagi = a/b\n",
        "print(a, \"/\", b, \"=\", bagi)"
      ],
      "execution_count": 8,
      "outputs": [
        {
          "output_type": "stream",
          "name": "stdout",
          "text": [
            "10 + 5 = 15\n",
            "10 - 5 = 5\n",
            "10 * 5 = 50\n",
            "10 / 5 = 2.0\n"
          ]
        }
      ]
    }
  ]
}