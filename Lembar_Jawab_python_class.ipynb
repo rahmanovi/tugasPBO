{
  "cells": [
    {
      "cell_type": "markdown",
      "metadata": {
        "id": "dGIpQt4RTjGu"
      },
      "source": [
        "## NIM  : 11200467\n",
        "## NAMA : Rahma Novitaria\n",
        "## JURUSAN : Sistem Informasi\n"
      ]
    },
    {
      "cell_type": "markdown",
      "source": [
        "# Tugas - Class dan Enkapsulasi"
      ],
      "metadata": {
        "id": "2NTI-ytzglfY"
      }
    },
    {
      "cell_type": "code",
      "source": [
        "#JAWAB\n",
        "\n",
        "class Tabung:\n",
        "  def __init__(self,jari_jari,tinggi):\n",
        "    self.r = jari_jari\n",
        "    self.t = tinggi\n",
        "    self.__volume = 3,14 * jari_jari * jari_jari * tinggi\n",
        "\n",
        "  def tampilkan_volume(self):\n",
        "    print(f'Volume Tabung: {self.__volume}')\n",
        "\n",
        "tabung = Tabung(int(input(\"jari_jari: \")), int(input(\"tinggi: \")))\n",
        "tabung.tampilkan_volume()\n"
      ],
      "metadata": {
        "id": "V0Drjsb_h1KF"
      },
      "execution_count": null,
      "outputs": []
    }
  ],
  "metadata": {
    "kernelspec": {
      "display_name": "Python 3",
      "language": "python",
      "name": "python3"
    },
    "language_info": {
      "codemirror_mode": {
        "name": "ipython",
        "version": 3
      },
      "file_extension": ".py",
      "mimetype": "text/x-python",
      "name": "python",
      "nbconvert_exporter": "python",
      "pygments_lexer": "ipython3",
      "version": "3.7.7"
    },
    "colab": {
      "name": "Lembar_Jawab_python_class.ipynb",
      "provenance": [],
      "collapsed_sections": []
    }
  },
  "nbformat": 4,
  "nbformat_minor": 0
}