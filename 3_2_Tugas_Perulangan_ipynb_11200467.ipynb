{
  "nbformat": 4,
  "nbformat_minor": 0,
  "metadata": {
    "colab": {
      "name": "3_2_Tugas_Perulangan.ipynb_11200467",
      "provenance": [],
      "collapsed_sections": []
    },
    "kernelspec": {
      "name": "python3",
      "display_name": "Python 3"
    }
  },
  "cells": [
    {
      "cell_type": "code",
      "metadata": {
        "id": "fkV8YRAQlm-C"
      },
      "source": [
        ""
      ],
      "execution_count": null,
      "outputs": []
    },
    {
      "cell_type": "markdown",
      "metadata": {
        "id": "lnkJ-zBHl3jp"
      },
      "source": [
        "## Access Element\n",
        "Keunikan lain dari looping dengan python adalah selain bahasa yang mudah dimengerti dalam looping, kita juga bisa mengakses elemen yang terdapat pada sebuah list. Berikut ini contohnya :\n",
        "``` javascript\n",
        "#Tugas 3.2.1\n",
        "count=[1,2,3,4,5] #elemen list\n",
        "\n",
        "for number in count: #looping untuk menampilkan semua elemen pada count\n",
        "    print(\"Ini adalah element count : \", number) #menampilkan elemen list pada count\n",
        "```\n",
        "Implekementasikan kode diatas, ketikan pada code cell di bawah ini, berikan penjelasan terkait kode diatas"
      ]
    },
    {
      "cell_type": "code",
      "metadata": {
        "id": "xYjQqqNLm-dB",
        "colab": {
          "base_uri": "https://localhost:8080/"
        },
        "outputId": "54542527-0c3a-4b0c-da6b-efcbaea06f52"
      },
      "source": [
        "# Jawaban Tugas 3.2.1\n",
        "#elemen list\n",
        "count=[1,2,3,4,5]\n",
        "\n",
        "for number in count:\n",
        "  print(\"Ini adalah element count : \", number)"
      ],
      "execution_count": null,
      "outputs": [
        {
          "output_type": "stream",
          "name": "stdout",
          "text": [
            "Ini adalah element count :  1\n",
            "Ini adalah element count :  2\n",
            "Ini adalah element count :  3\n",
            "Ini adalah element count :  4\n",
            "Ini adalah element count :  5\n"
          ]
        }
      ]
    },
    {
      "cell_type": "markdown",
      "metadata": {
        "id": "figDWKAcnZRA"
      },
      "source": [
        "## Tugas Praktek 3.2.2\n",
        "1. Buatlah sebuah program yang bisa mengeluarkan angka 1 sampai 10.\n",
        "1. Buatlah sebuah program yang bisa mengeluarkan angka -20 sampai -50.\n",
        "3. Tampilan akan menunjukan \"Angka ganjil 1\" untuk angka ganjil dan \"Angka genap 2\" untuk angka genap. (Menggunakan looping for)\n",
        "\n",
        "**Note:** Kode dasar sudah disertakan, Anda cukup mengganti tanda # dengan nilai-nilai yang sesuai."
      ]
    },
    {
      "cell_type": "code",
      "metadata": {
        "id": "MElhruOTntzZ"
      },
      "source": [
        "#Jawaban Tugas 3.2.1.1\n",
        "angka_range= range(1,11)\n",
        "\n",
        "for i in angka_range:\n",
        "  print(f\"keluarkan angka -> {i}\")"
      ],
      "execution_count": null,
      "outputs": []
    },
    {
      "cell_type": "code",
      "metadata": {
        "id": "NFtMjrQznuF2"
      },
      "source": [
        "#Jawaban Tugas 3.2.1.2\n",
        "angka_range= range(-50, -19)\n",
        "\n",
        "for i in angka_range:\n",
        "  print(\"angka ke  \", i)"
      ],
      "execution_count": null,
      "outputs": []
    },
    {
      "cell_type": "code",
      "metadata": {
        "id": "xpGigMPBpBy7"
      },
      "source": [
        "#Jawaban Tugas 3.2.1.3\n",
        "a=int(input(\"masukan Jumlah Data : \"))\n",
        "\n",
        "for i in range(1,a,2):\n",
        "  print(i, \"adalah angka ganjil 1\")\n",
        "  print(i+1,\"adalah angka genap 2\")"
      ],
      "execution_count": null,
      "outputs": []
    }
  ]
}